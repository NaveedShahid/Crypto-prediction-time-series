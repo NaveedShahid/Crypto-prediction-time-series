{
  "nbformat": 4,
  "nbformat_minor": 0,
  "metadata": {
    "colab": {
      "name": "crypto_arima.ipynb",
      "provenance": [],
      "collapsed_sections": [],
      "toc_visible": true
    },
    "kernelspec": {
      "name": "python3",
      "display_name": "Python 3"
    },
    "language_info": {
      "name": "python"
    }
  },
  "cells": [
    {
      "cell_type": "code",
      "metadata": {
        "colab": {
          "base_uri": "https://localhost:8080/"
        },
        "id": "hM-GDrvM8nKX",
        "outputId": "b8e2a622-7e69-49fc-8595-a9c81ca877a5"
      },
      "source": [
        "!pip install statsmodels"
      ],
      "execution_count": 23,
      "outputs": [
        {
          "output_type": "stream",
          "name": "stdout",
          "text": [
            "Requirement already satisfied: statsmodels in /usr/local/lib/python3.7/dist-packages (0.10.2)\n",
            "Requirement already satisfied: scipy>=0.18 in /usr/local/lib/python3.7/dist-packages (from statsmodels) (1.4.1)\n",
            "Requirement already satisfied: pandas>=0.19 in /usr/local/lib/python3.7/dist-packages (from statsmodels) (1.1.5)\n",
            "Requirement already satisfied: patsy>=0.4.0 in /usr/local/lib/python3.7/dist-packages (from statsmodels) (0.5.1)\n",
            "Requirement already satisfied: numpy>=1.11 in /usr/local/lib/python3.7/dist-packages (from statsmodels) (1.19.5)\n",
            "Requirement already satisfied: pytz>=2017.2 in /usr/local/lib/python3.7/dist-packages (from pandas>=0.19->statsmodels) (2018.9)\n",
            "Requirement already satisfied: python-dateutil>=2.7.3 in /usr/local/lib/python3.7/dist-packages (from pandas>=0.19->statsmodels) (2.8.2)\n",
            "Requirement already satisfied: six in /usr/local/lib/python3.7/dist-packages (from patsy>=0.4.0->statsmodels) (1.15.0)\n"
          ]
        }
      ]
    },
    {
      "cell_type": "code",
      "metadata": {
        "id": "UON9fcdSXRHB"
      },
      "source": [
        "import pandas as pd\n",
        "import matplotlib.pyplot as plt\n",
        "import numpy as np\n",
        "import os\n",
        "%matplotlib inline"
      ],
      "execution_count": 22,
      "outputs": []
    },
    {
      "cell_type": "code",
      "metadata": {
        "id": "tp8ZS431XWmN"
      },
      "source": [
        "df = pd.read_csv('btc_eth_ltc.csv',index_col='Date')"
      ],
      "execution_count": 23,
      "outputs": []
    },
    {
      "cell_type": "code",
      "metadata": {
        "colab": {
          "base_uri": "https://localhost:8080/",
          "height": 455
        },
        "id": "b-YNyNZnXdu2",
        "outputId": "eca1e928-d06d-43f3-ef70-510a173c5b5c"
      },
      "source": [
        "df = df.sort_values('Date')\n",
        "df"
      ],
      "execution_count": 24,
      "outputs": [
        {
          "output_type": "execute_result",
          "data": {
            "text/html": [
              "<div>\n",
              "<style scoped>\n",
              "    .dataframe tbody tr th:only-of-type {\n",
              "        vertical-align: middle;\n",
              "    }\n",
              "\n",
              "    .dataframe tbody tr th {\n",
              "        vertical-align: top;\n",
              "    }\n",
              "\n",
              "    .dataframe thead th {\n",
              "        text-align: right;\n",
              "    }\n",
              "</style>\n",
              "<table border=\"1\" class=\"dataframe\">\n",
              "  <thead>\n",
              "    <tr style=\"text-align: right;\">\n",
              "      <th></th>\n",
              "      <th>Unix Timestamp</th>\n",
              "      <th>Symbol</th>\n",
              "      <th>Open</th>\n",
              "      <th>High</th>\n",
              "      <th>Low</th>\n",
              "      <th>Close</th>\n",
              "      <th>Volume</th>\n",
              "    </tr>\n",
              "    <tr>\n",
              "      <th>Date</th>\n",
              "      <th></th>\n",
              "      <th></th>\n",
              "      <th></th>\n",
              "      <th></th>\n",
              "      <th></th>\n",
              "      <th></th>\n",
              "      <th></th>\n",
              "    </tr>\n",
              "  </thead>\n",
              "  <tbody>\n",
              "    <tr>\n",
              "      <th>2018-10-16 04:00:00</th>\n",
              "      <td>1539662400000</td>\n",
              "      <td>ETHUSD</td>\n",
              "      <td>202.67</td>\n",
              "      <td>207.89</td>\n",
              "      <td>202.50</td>\n",
              "      <td>205.86</td>\n",
              "      <td>21165.529375</td>\n",
              "    </tr>\n",
              "    <tr>\n",
              "      <th>2018-10-16 04:00:00</th>\n",
              "      <td>1539662400000</td>\n",
              "      <td>LTCUSD</td>\n",
              "      <td>0.00</td>\n",
              "      <td>55.20</td>\n",
              "      <td>0.00</td>\n",
              "      <td>52.92</td>\n",
              "      <td>5601.926989</td>\n",
              "    </tr>\n",
              "    <tr>\n",
              "      <th>2018-10-16 04:00:00</th>\n",
              "      <td>1539662400000</td>\n",
              "      <td>BTCUSD</td>\n",
              "      <td>6423.27</td>\n",
              "      <td>6489.99</td>\n",
              "      <td>6390.10</td>\n",
              "      <td>6444.08</td>\n",
              "      <td>2978.589591</td>\n",
              "    </tr>\n",
              "    <tr>\n",
              "      <th>2018-10-17 04:00:00</th>\n",
              "      <td>1539748800000</td>\n",
              "      <td>BTCUSD</td>\n",
              "      <td>6444.08</td>\n",
              "      <td>6487.77</td>\n",
              "      <td>6406.98</td>\n",
              "      <td>6459.26</td>\n",
              "      <td>1998.462064</td>\n",
              "    </tr>\n",
              "    <tr>\n",
              "      <th>2018-10-17 04:00:00</th>\n",
              "      <td>1539748800000</td>\n",
              "      <td>LTCUSD</td>\n",
              "      <td>52.92</td>\n",
              "      <td>54.50</td>\n",
              "      <td>52.43</td>\n",
              "      <td>53.52</td>\n",
              "      <td>4206.391895</td>\n",
              "    </tr>\n",
              "    <tr>\n",
              "      <th>...</th>\n",
              "      <td>...</td>\n",
              "      <td>...</td>\n",
              "      <td>...</td>\n",
              "      <td>...</td>\n",
              "      <td>...</td>\n",
              "      <td>...</td>\n",
              "      <td>...</td>\n",
              "    </tr>\n",
              "    <tr>\n",
              "      <th>2021-09-21 04:00:00</th>\n",
              "      <td>1632196800000</td>\n",
              "      <td>ETHUSD</td>\n",
              "      <td>2998.29</td>\n",
              "      <td>3104.42</td>\n",
              "      <td>2650.85</td>\n",
              "      <td>2869.31</td>\n",
              "      <td>46289.916678</td>\n",
              "    </tr>\n",
              "    <tr>\n",
              "      <th>2021-09-21 04:00:00</th>\n",
              "      <td>1632196800000</td>\n",
              "      <td>LTCUSD</td>\n",
              "      <td>159.47</td>\n",
              "      <td>162.20</td>\n",
              "      <td>144.62</td>\n",
              "      <td>151.48</td>\n",
              "      <td>46606.739750</td>\n",
              "    </tr>\n",
              "    <tr>\n",
              "      <th>2021-09-22 04:00:00</th>\n",
              "      <td>1632283200000</td>\n",
              "      <td>BTCUSD</td>\n",
              "      <td>42089.88</td>\n",
              "      <td>44047.48</td>\n",
              "      <td>41836.59</td>\n",
              "      <td>43559.58</td>\n",
              "      <td>1051.581492</td>\n",
              "    </tr>\n",
              "    <tr>\n",
              "      <th>2021-09-22 04:00:00</th>\n",
              "      <td>1632283200000</td>\n",
              "      <td>ETHUSD</td>\n",
              "      <td>2869.31</td>\n",
              "      <td>3097.00</td>\n",
              "      <td>2869.31</td>\n",
              "      <td>3072.44</td>\n",
              "      <td>11106.197241</td>\n",
              "    </tr>\n",
              "    <tr>\n",
              "      <th>2021-09-22 04:00:00</th>\n",
              "      <td>1632283200000</td>\n",
              "      <td>LTCUSD</td>\n",
              "      <td>151.48</td>\n",
              "      <td>161.85</td>\n",
              "      <td>151.48</td>\n",
              "      <td>160.38</td>\n",
              "      <td>12445.036347</td>\n",
              "    </tr>\n",
              "  </tbody>\n",
              "</table>\n",
              "<p>3219 rows × 7 columns</p>\n",
              "</div>"
            ],
            "text/plain": [
              "                     Unix Timestamp  Symbol  ...     Close        Volume\n",
              "Date                                         ...                        \n",
              "2018-10-16 04:00:00   1539662400000  ETHUSD  ...    205.86  21165.529375\n",
              "2018-10-16 04:00:00   1539662400000  LTCUSD  ...     52.92   5601.926989\n",
              "2018-10-16 04:00:00   1539662400000  BTCUSD  ...   6444.08   2978.589591\n",
              "2018-10-17 04:00:00   1539748800000  BTCUSD  ...   6459.26   1998.462064\n",
              "2018-10-17 04:00:00   1539748800000  LTCUSD  ...     53.52   4206.391895\n",
              "...                             ...     ...  ...       ...           ...\n",
              "2021-09-21 04:00:00   1632196800000  ETHUSD  ...   2869.31  46289.916678\n",
              "2021-09-21 04:00:00   1632196800000  LTCUSD  ...    151.48  46606.739750\n",
              "2021-09-22 04:00:00   1632283200000  BTCUSD  ...  43559.58   1051.581492\n",
              "2021-09-22 04:00:00   1632283200000  ETHUSD  ...   3072.44  11106.197241\n",
              "2021-09-22 04:00:00   1632283200000  LTCUSD  ...    160.38  12445.036347\n",
              "\n",
              "[3219 rows x 7 columns]"
            ]
          },
          "metadata": {},
          "execution_count": 24
        }
      ]
    },
    {
      "cell_type": "code",
      "metadata": {
        "colab": {
          "base_uri": "https://localhost:8080/"
        },
        "id": "oq8L5TXjXgOk",
        "outputId": "0ae9c24f-7890-4df3-d529-8b4eb47df0d9"
      },
      "source": [
        "df['Symbol'].unique()"
      ],
      "execution_count": 25,
      "outputs": [
        {
          "output_type": "execute_result",
          "data": {
            "text/plain": [
              "array(['ETHUSD', 'LTCUSD', 'BTCUSD'], dtype=object)"
            ]
          },
          "metadata": {},
          "execution_count": 25
        }
      ]
    },
    {
      "cell_type": "code",
      "metadata": {
        "colab": {
          "base_uri": "https://localhost:8080/"
        },
        "id": "5364onW0ZKJE",
        "outputId": "9a90c31c-f5fe-4f7b-a2f7-d913ba6a66bf"
      },
      "source": [
        "df.groupby('Symbol')['Unix Timestamp'].nunique()"
      ],
      "execution_count": 26,
      "outputs": [
        {
          "output_type": "execute_result",
          "data": {
            "text/plain": [
              "Symbol\n",
              "BTCUSD    1073\n",
              "ETHUSD    1073\n",
              "LTCUSD    1073\n",
              "Name: Unix Timestamp, dtype: int64"
            ]
          },
          "metadata": {},
          "execution_count": 26
        }
      ]
    },
    {
      "cell_type": "code",
      "metadata": {
        "colab": {
          "base_uri": "https://localhost:8080/",
          "height": 298
        },
        "id": "OQOEwsh8ddcT",
        "outputId": "ddf19e23-9414-41b3-c35b-7c4865517a32"
      },
      "source": [
        "plt.title('Number of samples per coin')\n",
        "plt.bar(df['Symbol'].unique(),df.groupby('Symbol')['Unix Timestamp'].nunique())"
      ],
      "execution_count": 27,
      "outputs": [
        {
          "output_type": "execute_result",
          "data": {
            "text/plain": [
              "<BarContainer object of 3 artists>"
            ]
          },
          "metadata": {},
          "execution_count": 27
        },
        {
          "output_type": "display_data",
          "data": {
            "image/png": "[encoded data removed]",
            "text/plain": [
              "<Figure size 432x288 with 1 Axes>"
            ]
          },
          "metadata": {
            "needs_background": "light"
          }
        }
      ]
    },
    {
      "cell_type": "code",
      "metadata": {
        "colab": {
          "base_uri": "https://localhost:8080/"
        },
        "id": "wp7rel4ud05A",
        "outputId": "8f704403-a384-4d48-b3d2-e74b30f15aeb"
      },
      "source": [
        "#Split dataframes\n",
        "list_df = {}\n",
        "for name in df['Symbol'].unique():\n",
        "    print(name)\n",
        "    list_df.update({name:df[df.Symbol==name]})"
      ],
      "execution_count": 88,
      "outputs": [
        {
          "output_type": "stream",
          "name": "stdout",
          "text": [
            "ETHUSD\n",
            "LTCUSD\n",
            "BTCUSD\n"
          ]
        }
      ]
    },
    {
      "cell_type": "code",
      "metadata": {
        "id": "6HnWdfJDe7Xc"
      },
      "source": [
        "ltc_df = list_df.get('LTCUSD')\n",
        "btc_df = list_df.get('BTCUSD')\n",
        "eth_df = list_df.get('ETHUSD')\n"
      ],
      "execution_count": 89,
      "outputs": []
    },
    {
      "cell_type": "code",
      "metadata": {
        "colab": {
          "base_uri": "https://localhost:8080/",
          "height": 455
        },
        "id": "EN9XVHHLfCcI",
        "outputId": "38683f41-e02e-4dee-940b-ef419fcf9890"
      },
      "source": [
        "ltc_df"
      ],
      "execution_count": 90,
      "outputs": [
        {
          "output_type": "execute_result",
          "data": {
            "text/html": [
              "<div>\n",
              "<style scoped>\n",
              "    .dataframe tbody tr th:only-of-type {\n",
              "        vertical-align: middle;\n",
              "    }\n",
              "\n",
              "    .dataframe tbody tr th {\n",
              "        vertical-align: top;\n",
              "    }\n",
              "\n",
              "    .dataframe thead th {\n",
              "        text-align: right;\n",
              "    }\n",
              "</style>\n",
              "<table border=\"1\" class=\"dataframe\">\n",
              "  <thead>\n",
              "    <tr style=\"text-align: right;\">\n",
              "      <th></th>\n",
              "      <th>Unix Timestamp</th>\n",
              "      <th>Symbol</th>\n",
              "      <th>Open</th>\n",
              "      <th>High</th>\n",
              "      <th>Low</th>\n",
              "      <th>Close</th>\n",
              "      <th>Volume</th>\n",
              "    </tr>\n",
              "    <tr>\n",
              "      <th>Date</th>\n",
              "      <th></th>\n",
              "      <th></th>\n",
              "      <th></th>\n",
              "      <th></th>\n",
              "      <th></th>\n",
              "      <th></th>\n",
              "      <th></th>\n",
              "    </tr>\n",
              "  </thead>\n",
              "  <tbody>\n",
              "    <tr>\n",
              "      <th>2018-10-16 04:00:00</th>\n",
              "      <td>1539662400000</td>\n",
              "      <td>LTCUSD</td>\n",
              "      <td>0.00</td>\n",
              "      <td>55.20</td>\n",
              "      <td>0.00</td>\n",
              "      <td>52.92</td>\n",
              "      <td>5601.926989</td>\n",
              "    </tr>\n",
              "    <tr>\n",
              "      <th>2018-10-17 04:00:00</th>\n",
              "      <td>1539748800000</td>\n",
              "      <td>LTCUSD</td>\n",
              "      <td>52.92</td>\n",
              "      <td>54.50</td>\n",
              "      <td>52.43</td>\n",
              "      <td>53.52</td>\n",
              "      <td>4206.391895</td>\n",
              "    </tr>\n",
              "    <tr>\n",
              "      <th>2018-10-18 04:00:00</th>\n",
              "      <td>1539835200000</td>\n",
              "      <td>LTCUSD</td>\n",
              "      <td>53.52</td>\n",
              "      <td>53.87</td>\n",
              "      <td>51.25</td>\n",
              "      <td>51.88</td>\n",
              "      <td>3150.270139</td>\n",
              "    </tr>\n",
              "    <tr>\n",
              "      <th>2018-10-19 04:00:00</th>\n",
              "      <td>1539921600000</td>\n",
              "      <td>LTCUSD</td>\n",
              "      <td>51.88</td>\n",
              "      <td>51.88</td>\n",
              "      <td>51.88</td>\n",
              "      <td>51.88</td>\n",
              "      <td>0.000000</td>\n",
              "    </tr>\n",
              "    <tr>\n",
              "      <th>2018-10-20 04:00:00</th>\n",
              "      <td>1540008000000</td>\n",
              "      <td>LTCUSD</td>\n",
              "      <td>51.88</td>\n",
              "      <td>52.75</td>\n",
              "      <td>51.88</td>\n",
              "      <td>52.75</td>\n",
              "      <td>1.000000</td>\n",
              "    </tr>\n",
              "    <tr>\n",
              "      <th>...</th>\n",
              "      <td>...</td>\n",
              "      <td>...</td>\n",
              "      <td>...</td>\n",
              "      <td>...</td>\n",
              "      <td>...</td>\n",
              "      <td>...</td>\n",
              "      <td>...</td>\n",
              "    </tr>\n",
              "    <tr>\n",
              "      <th>2021-09-18 04:00:00</th>\n",
              "      <td>1631937600000</td>\n",
              "      <td>LTCUSD</td>\n",
              "      <td>182.08</td>\n",
              "      <td>185.74</td>\n",
              "      <td>178.43</td>\n",
              "      <td>179.44</td>\n",
              "      <td>21093.113429</td>\n",
              "    </tr>\n",
              "    <tr>\n",
              "      <th>2021-09-19 04:00:00</th>\n",
              "      <td>1632024000000</td>\n",
              "      <td>LTCUSD</td>\n",
              "      <td>179.44</td>\n",
              "      <td>181.60</td>\n",
              "      <td>163.50</td>\n",
              "      <td>167.01</td>\n",
              "      <td>31279.361709</td>\n",
              "    </tr>\n",
              "    <tr>\n",
              "      <th>2021-09-20 04:00:00</th>\n",
              "      <td>1632110400000</td>\n",
              "      <td>LTCUSD</td>\n",
              "      <td>167.01</td>\n",
              "      <td>168.18</td>\n",
              "      <td>150.22</td>\n",
              "      <td>159.47</td>\n",
              "      <td>86803.808889</td>\n",
              "    </tr>\n",
              "    <tr>\n",
              "      <th>2021-09-21 04:00:00</th>\n",
              "      <td>1632196800000</td>\n",
              "      <td>LTCUSD</td>\n",
              "      <td>159.47</td>\n",
              "      <td>162.20</td>\n",
              "      <td>144.62</td>\n",
              "      <td>151.48</td>\n",
              "      <td>46606.739750</td>\n",
              "    </tr>\n",
              "    <tr>\n",
              "      <th>2021-09-22 04:00:00</th>\n",
              "      <td>1632283200000</td>\n",
              "      <td>LTCUSD</td>\n",
              "      <td>151.48</td>\n",
              "      <td>161.85</td>\n",
              "      <td>151.48</td>\n",
              "      <td>160.38</td>\n",
              "      <td>12445.036347</td>\n",
              "    </tr>\n",
              "  </tbody>\n",
              "</table>\n",
              "<p>1073 rows × 7 columns</p>\n",
              "</div>"
            ],
            "text/plain": [
              "                     Unix Timestamp  Symbol  ...   Close        Volume\n",
              "Date                                         ...                      \n",
              "2018-10-16 04:00:00   1539662400000  LTCUSD  ...   52.92   5601.926989\n",
              "2018-10-17 04:00:00   1539748800000  LTCUSD  ...   53.52   4206.391895\n",
              "2018-10-18 04:00:00   1539835200000  LTCUSD  ...   51.88   3150.270139\n",
              "2018-10-19 04:00:00   1539921600000  LTCUSD  ...   51.88      0.000000\n",
              "2018-10-20 04:00:00   1540008000000  LTCUSD  ...   52.75      1.000000\n",
              "...                             ...     ...  ...     ...           ...\n",
              "2021-09-18 04:00:00   1631937600000  LTCUSD  ...  179.44  21093.113429\n",
              "2021-09-19 04:00:00   1632024000000  LTCUSD  ...  167.01  31279.361709\n",
              "2021-09-20 04:00:00   1632110400000  LTCUSD  ...  159.47  86803.808889\n",
              "2021-09-21 04:00:00   1632196800000  LTCUSD  ...  151.48  46606.739750\n",
              "2021-09-22 04:00:00   1632283200000  LTCUSD  ...  160.38  12445.036347\n",
              "\n",
              "[1073 rows x 7 columns]"
            ]
          },
          "metadata": {},
          "execution_count": 90
        }
      ]
    },
    {
      "cell_type": "code",
      "metadata": {
        "colab": {
          "base_uri": "https://localhost:8080/",
          "height": 296
        },
        "id": "S2niscEWfeXr",
        "outputId": "f65a5526-bd20-4135-a17f-41943a69a3ea"
      },
      "source": [
        "ltc_df['Close'].plot()"
      ],
      "execution_count": 54,
      "outputs": [
        {
          "output_type": "execute_result",
          "data": {
            "text/plain": [
              "<matplotlib.axes._subplots.AxesSubplot at 0x7f4c568214d0>"
            ]
          },
          "metadata": {},
          "execution_count": 54
        },
        {
          "output_type": "display_data",
          "data": {
            "image/png": "[encoded data removed]",
            "text/plain": [
              "<Figure size 432x288 with 1 Axes>"
            ]
          },
          "metadata": {
            "needs_background": "light"
          }
        }
      ]
    },
    {
      "cell_type": "code",
      "metadata": {
        "id": "MIcARzPoHhr8",
        "colab": {
          "base_uri": "https://localhost:8080/"
        },
        "outputId": "e6a90b41-50b1-4c57-c0b2-a2f29d4576db"
      },
      "source": [
        "# fit an ARIMA model and plot residual errors\n",
        "from pandas import datetime\n",
        "from pandas import read_csv\n",
        "from pandas import DataFrame\n",
        "from statsmodels.tsa import arima_model\n",
        "from sklearn.metrics import mean_squared_error\n",
        "from matplotlib import pyplot\n",
        "# load dataset\n",
        "\n"
      ],
      "execution_count": 73,
      "outputs": [
        {
          "output_type": "stream",
          "name": "stderr",
          "text": [
            "/usr/local/lib/python3.7/dist-packages/ipykernel_launcher.py:2: FutureWarning: The pandas.datetime class is deprecated and will be removed from pandas in a future version. Import from datetime module instead.\n",
            "  \n"
          ]
        }
      ]
    },
    {
      "cell_type": "code",
      "metadata": {
        "id": "s_cBkqsq_UZI"
      },
      "source": [
        "# fit model\n",
        "def train_arima(df):\n",
        "    series = pd.DataFrame(df['Close'])\n",
        "    series.index = pd.to_datetime(series.index)\n",
        "    series.index = series.index.to_period('M')\n",
        "    model = arima_model.ARIMA(series, order=(2,1,0))\n",
        "    model_fit = model.fit()\n",
        "    # summary of fit model\n",
        "    print(model_fit.summary())\n",
        "    # line plot of residuals\n",
        "    residuals = DataFrame(model_fit.resid)\n",
        "    residuals.plot()\n",
        "    pyplot.show()\n",
        "    # density plot of residuals\n",
        "    residuals.plot(kind='kde')\n",
        "    pyplot.show()\n",
        "    # summary stats of residuals\n",
        "    print(residuals.describe())\n",
        "    return series"
      ],
      "execution_count": 69,
      "outputs": []
    },
    {
      "cell_type": "code",
      "metadata": {
        "id": "TBMEVo8O_ETD"
      },
      "source": [
        "def predict_arima(series):\n",
        "    X = series.values\n",
        "    size = int(len(X) * 0.66)\n",
        "    train, test = X[0:size], X[size:len(X)]\n",
        "    history = [x for x in train]\n",
        "    predictions = list()\n",
        "    # walk-forward validation\n",
        "    for t in range(len(test)):\n",
        "      model = arima_model.ARIMA(history, order=(5,1,0))\n",
        "      model_fit = model.fit()\n",
        "      output = model_fit.forecast()\n",
        "      yhat = output[0]\n",
        "      predictions.append(yhat)\n",
        "      obs = test[t]\n",
        "      history.append(obs)\n",
        "    # evaluate forecasts\n",
        "    rmse = np.sqrt(mean_squared_error(test, predictions))\n",
        "    print('Test RMSE: %.3f' % rmse)\n",
        "    # plot forecasts against actual outcomes\n",
        "    pyplot.plot(test)\n",
        "    pyplot.plot(predictions, color='red')\n",
        "    pyplot.show()"
      ],
      "execution_count": 77,
      "outputs": []
    },
    {
      "cell_type": "code",
      "metadata": {
        "id": "BOK03_wIEZCK"
      },
      "source": [
        "def forecast_arima(df,months=7):\n",
        "    import datetime\n",
        "    series = pd.DataFrame(df['Close'])\n",
        "    series.index = pd.to_datetime(series.index)\n",
        "    max = series.index.max()\n",
        "\n",
        "    series.index = series.index.to_period('M')\n",
        "    X = series.values\n",
        "    history = [x for x in X]\n",
        "    predictions = pd.DataFrame(columns=['date','Close'])\n",
        "    # walk-forward validation\n",
        "    for t in range(months):\n",
        "      model = arima_model.ARIMA(history, order=(2,1,0))\n",
        "      model_fit = model.fit()\n",
        "      output = model_fit.forecast()\n",
        "      yhat = output[0]\n",
        "      predictions=pd.concat([predictions,pd.DataFrame([[max+datetime.timedelta(days=t*30),yhat[0]]],columns=['date','Close'])])\n",
        "      obs = test[t]\n",
        "      history.append(obs)\n",
        "    predictions.index = predictions['date']\n",
        "    predictions.drop('date',axis=1,inplace=True)\n",
        "    return predictions"
      ],
      "execution_count": 148,
      "outputs": []
    },
    {
      "cell_type": "markdown",
      "metadata": {
        "id": "PSrUCB0vJ5_Z"
      },
      "source": [
        "## LTC"
      ]
    },
    {
      "cell_type": "code",
      "metadata": {
        "colab": {
          "base_uri": "https://localhost:8080/",
          "height": 1000
        },
        "id": "2NNs6wsGBixy",
        "outputId": "00b48a17-1e2d-449a-bd1d-6487882891ee"
      },
      "source": [
        "series = train_arima(ltc_df)"
      ],
      "execution_count": 149,
      "outputs": [
        {
          "output_type": "stream",
          "name": "stdout",
          "text": [
            "                             ARIMA Model Results                              \n",
            "==============================================================================\n",
            "Dep. Variable:                D.Close   No. Observations:                 1072\n",
            "Model:                 ARIMA(2, 1, 0)   Log Likelihood               -3740.587\n",
            "Method:                       css-mle   S.D. of innovations              7.928\n",
            "Date:                Wed, 29 Sep 2021   AIC                           7489.175\n",
            "Time:                        15:21:27   BIC                           7509.084\n",
            "Sample:                    10-31-2018   HQIC                          7496.716\n",
            "                         - 09-30-2021                                         \n",
            "=================================================================================\n",
            "                    coef    std err          z      P>|z|      [0.025      0.975]\n",
            "---------------------------------------------------------------------------------\n",
            "const             0.0989      0.216      0.457      0.648      -0.325       0.523\n",
            "ar.L1.D.Close    -0.1748      0.030     -5.731      0.000      -0.235      -0.115\n",
            "ar.L2.D.Close     0.0555      0.030      1.820      0.069      -0.004       0.115\n",
            "                                    Roots                                    \n",
            "=============================================================================\n",
            "                  Real          Imaginary           Modulus         Frequency\n",
            "-----------------------------------------------------------------------------\n",
            "AR.1           -2.9530           +0.0000j            2.9530            0.5000\n",
            "AR.2            6.1020           +0.0000j            6.1020            0.0000\n",
            "-----------------------------------------------------------------------------\n"
          ]
        },
        {
          "output_type": "display_data",
          "data": {
            "image/png": "[encoded data removed]",
            "text/plain": [
              "<Figure size 432x288 with 1 Axes>"
            ]
          },
          "metadata": {
            "needs_background": "light"
          }
        },
        {
          "output_type": "display_data",
          "data": {
            "image/png": "[encoded data removed]",
            "text/plain": [
              "<Figure size 432x288 with 1 Axes>"
            ]
          },
          "metadata": {
            "needs_background": "light"
          }
        },
        {
          "output_type": "stream",
          "name": "stdout",
          "text": [
            "                 0\n",
            "count  1072.000000\n",
            "mean      0.000151\n",
            "std       7.931665\n",
            "min     -86.059031\n",
            "25%      -1.824875\n",
            "50%      -0.080770\n",
            "75%       1.846670\n",
            "max      67.710549\n"
          ]
        }
      ]
    },
    {
      "cell_type": "code",
      "metadata": {
        "colab": {
          "base_uri": "https://localhost:8080/",
          "height": 282
        },
        "id": "h3Wv5mBrB4b1",
        "outputId": "5c681dfc-6b14-4981-d526-c5a7a1064180"
      },
      "source": [
        "predict_arima(series)"
      ],
      "execution_count": 150,
      "outputs": [
        {
          "output_type": "stream",
          "name": "stdout",
          "text": [
            "Test RMSE: 13.216\n"
          ]
        },
        {
          "output_type": "display_data",
          "data": {
            "image/png": "[encoded data removed]",
            "text/plain": [
              "<Figure size 432x288 with 1 Axes>"
            ]
          },
          "metadata": {
            "needs_background": "light"
          }
        }
      ]
    },
    {
      "cell_type": "code",
      "metadata": {
        "colab": {
          "base_uri": "https://localhost:8080/",
          "height": 300
        },
        "id": "hJiO05fvCGg2",
        "outputId": "c45086bc-dcd3-4747-aae8-e7d4f3b494e6"
      },
      "source": [
        "pred =forecast_arima(ltc_df,months=7) #monthly forecast\n",
        "pred"
      ],
      "execution_count": 151,
      "outputs": [
        {
          "output_type": "execute_result",
          "data": {
            "text/html": [
              "<div>\n",
              "<style scoped>\n",
              "    .dataframe tbody tr th:only-of-type {\n",
              "        vertical-align: middle;\n",
              "    }\n",
              "\n",
              "    .dataframe tbody tr th {\n",
              "        vertical-align: top;\n",
              "    }\n",
              "\n",
              "    .dataframe thead th {\n",
              "        text-align: right;\n",
              "    }\n",
              "</style>\n",
              "<table border=\"1\" class=\"dataframe\">\n",
              "  <thead>\n",
              "    <tr style=\"text-align: right;\">\n",
              "      <th></th>\n",
              "      <th>Close</th>\n",
              "    </tr>\n",
              "    <tr>\n",
              "      <th>date</th>\n",
              "      <th></th>\n",
              "    </tr>\n",
              "  </thead>\n",
              "  <tbody>\n",
              "    <tr>\n",
              "      <th>2021-09-22 04:00:00</th>\n",
              "      <td>158.491891</td>\n",
              "    </tr>\n",
              "    <tr>\n",
              "      <th>2021-10-22 04:00:00</th>\n",
              "      <td>65.999487</td>\n",
              "    </tr>\n",
              "    <tr>\n",
              "      <th>2021-11-21 04:00:00</th>\n",
              "      <td>36.370725</td>\n",
              "    </tr>\n",
              "    <tr>\n",
              "      <th>2021-12-21 04:00:00</th>\n",
              "      <td>45.949692</td>\n",
              "    </tr>\n",
              "    <tr>\n",
              "      <th>2022-01-20 04:00:00</th>\n",
              "      <td>46.255797</td>\n",
              "    </tr>\n",
              "    <tr>\n",
              "      <th>2022-02-19 04:00:00</th>\n",
              "      <td>46.686266</td>\n",
              "    </tr>\n",
              "    <tr>\n",
              "      <th>2022-03-21 04:00:00</th>\n",
              "      <td>45.778992</td>\n",
              "    </tr>\n",
              "  </tbody>\n",
              "</table>\n",
              "</div>"
            ],
            "text/plain": [
              "                          Close\n",
              "date                           \n",
              "2021-09-22 04:00:00  158.491891\n",
              "2021-10-22 04:00:00   65.999487\n",
              "2021-11-21 04:00:00   36.370725\n",
              "2021-12-21 04:00:00   45.949692\n",
              "2022-01-20 04:00:00   46.255797\n",
              "2022-02-19 04:00:00   46.686266\n",
              "2022-03-21 04:00:00   45.778992"
            ]
          },
          "metadata": {},
          "execution_count": 151
        }
      ]
    },
    {
      "cell_type": "code",
      "metadata": {
        "colab": {
          "base_uri": "https://localhost:8080/",
          "height": 294
        },
        "id": "fHEuF6ujIlRE",
        "outputId": "bafe7376-f4c8-4d77-ded6-efb55224bfdb"
      },
      "source": [
        "pred.plot()"
      ],
      "execution_count": 152,
      "outputs": [
        {
          "output_type": "execute_result",
          "data": {
            "text/plain": [
              "<matplotlib.axes._subplots.AxesSubplot at 0x7f4c4a5163d0>"
            ]
          },
          "metadata": {},
          "execution_count": 152
        },
        {
          "output_type": "display_data",
          "data": {
            "image/png": "[encoded data removed]",
            "text/plain": [
              "<Figure size 432x288 with 1 Axes>"
            ]
          },
          "metadata": {
            "needs_background": "light"
          }
        }
      ]
    },
    {
      "cell_type": "code",
      "metadata": {
        "colab": {
          "base_uri": "https://localhost:8080/",
          "height": 455
        },
        "id": "7Y3oVM9aCGwO",
        "outputId": "d2ea4854-0abb-493e-b3d4-5c2ababd2d55"
      },
      "source": [
        "ltc_df"
      ],
      "execution_count": 136,
      "outputs": [
        {
          "output_type": "execute_result",
          "data": {
            "text/html": [
              "<div>\n",
              "<style scoped>\n",
              "    .dataframe tbody tr th:only-of-type {\n",
              "        vertical-align: middle;\n",
              "    }\n",
              "\n",
              "    .dataframe tbody tr th {\n",
              "        vertical-align: top;\n",
              "    }\n",
              "\n",
              "    .dataframe thead th {\n",
              "        text-align: right;\n",
              "    }\n",
              "</style>\n",
              "<table border=\"1\" class=\"dataframe\">\n",
              "  <thead>\n",
              "    <tr style=\"text-align: right;\">\n",
              "      <th></th>\n",
              "      <th>Unix Timestamp</th>\n",
              "      <th>Symbol</th>\n",
              "      <th>Open</th>\n",
              "      <th>High</th>\n",
              "      <th>Low</th>\n",
              "      <th>Close</th>\n",
              "      <th>Volume</th>\n",
              "    </tr>\n",
              "    <tr>\n",
              "      <th>Date</th>\n",
              "      <th></th>\n",
              "      <th></th>\n",
              "      <th></th>\n",
              "      <th></th>\n",
              "      <th></th>\n",
              "      <th></th>\n",
              "      <th></th>\n",
              "    </tr>\n",
              "  </thead>\n",
              "  <tbody>\n",
              "    <tr>\n",
              "      <th>2018-10-16 04:00:00</th>\n",
              "      <td>1539662400000</td>\n",
              "      <td>LTCUSD</td>\n",
              "      <td>0.00</td>\n",
              "      <td>55.20</td>\n",
              "      <td>0.00</td>\n",
              "      <td>52.92</td>\n",
              "      <td>5601.926989</td>\n",
              "    </tr>\n",
              "    <tr>\n",
              "      <th>2018-10-17 04:00:00</th>\n",
              "      <td>1539748800000</td>\n",
              "      <td>LTCUSD</td>\n",
              "      <td>52.92</td>\n",
              "      <td>54.50</td>\n",
              "      <td>52.43</td>\n",
              "      <td>53.52</td>\n",
              "      <td>4206.391895</td>\n",
              "    </tr>\n",
              "    <tr>\n",
              "      <th>2018-10-18 04:00:00</th>\n",
              "      <td>1539835200000</td>\n",
              "      <td>LTCUSD</td>\n",
              "      <td>53.52</td>\n",
              "      <td>53.87</td>\n",
              "      <td>51.25</td>\n",
              "      <td>51.88</td>\n",
              "      <td>3150.270139</td>\n",
              "    </tr>\n",
              "    <tr>\n",
              "      <th>2018-10-19 04:00:00</th>\n",
              "      <td>1539921600000</td>\n",
              "      <td>LTCUSD</td>\n",
              "      <td>51.88</td>\n",
              "      <td>51.88</td>\n",
              "      <td>51.88</td>\n",
              "      <td>51.88</td>\n",
              "      <td>0.000000</td>\n",
              "    </tr>\n",
              "    <tr>\n",
              "      <th>2018-10-20 04:00:00</th>\n",
              "      <td>1540008000000</td>\n",
              "      <td>LTCUSD</td>\n",
              "      <td>51.88</td>\n",
              "      <td>52.75</td>\n",
              "      <td>51.88</td>\n",
              "      <td>52.75</td>\n",
              "      <td>1.000000</td>\n",
              "    </tr>\n",
              "    <tr>\n",
              "      <th>...</th>\n",
              "      <td>...</td>\n",
              "      <td>...</td>\n",
              "      <td>...</td>\n",
              "      <td>...</td>\n",
              "      <td>...</td>\n",
              "      <td>...</td>\n",
              "      <td>...</td>\n",
              "    </tr>\n",
              "    <tr>\n",
              "      <th>2021-09-18 04:00:00</th>\n",
              "      <td>1631937600000</td>\n",
              "      <td>LTCUSD</td>\n",
              "      <td>182.08</td>\n",
              "      <td>185.74</td>\n",
              "      <td>178.43</td>\n",
              "      <td>179.44</td>\n",
              "      <td>21093.113429</td>\n",
              "    </tr>\n",
              "    <tr>\n",
              "      <th>2021-09-19 04:00:00</th>\n",
              "      <td>1632024000000</td>\n",
              "      <td>LTCUSD</td>\n",
              "      <td>179.44</td>\n",
              "      <td>181.60</td>\n",
              "      <td>163.50</td>\n",
              "      <td>167.01</td>\n",
              "      <td>31279.361709</td>\n",
              "    </tr>\n",
              "    <tr>\n",
              "      <th>2021-09-20 04:00:00</th>\n",
              "      <td>1632110400000</td>\n",
              "      <td>LTCUSD</td>\n",
              "      <td>167.01</td>\n",
              "      <td>168.18</td>\n",
              "      <td>150.22</td>\n",
              "      <td>159.47</td>\n",
              "      <td>86803.808889</td>\n",
              "    </tr>\n",
              "    <tr>\n",
              "      <th>2021-09-21 04:00:00</th>\n",
              "      <td>1632196800000</td>\n",
              "      <td>LTCUSD</td>\n",
              "      <td>159.47</td>\n",
              "      <td>162.20</td>\n",
              "      <td>144.62</td>\n",
              "      <td>151.48</td>\n",
              "      <td>46606.739750</td>\n",
              "    </tr>\n",
              "    <tr>\n",
              "      <th>2021-09-22 04:00:00</th>\n",
              "      <td>1632283200000</td>\n",
              "      <td>LTCUSD</td>\n",
              "      <td>151.48</td>\n",
              "      <td>161.85</td>\n",
              "      <td>151.48</td>\n",
              "      <td>160.38</td>\n",
              "      <td>12445.036347</td>\n",
              "    </tr>\n",
              "  </tbody>\n",
              "</table>\n",
              "<p>1073 rows × 7 columns</p>\n",
              "</div>"
            ],
            "text/plain": [
              "                     Unix Timestamp  Symbol  ...   Close        Volume\n",
              "Date                                         ...                      \n",
              "2018-10-16 04:00:00   1539662400000  LTCUSD  ...   52.92   5601.926989\n",
              "2018-10-17 04:00:00   1539748800000  LTCUSD  ...   53.52   4206.391895\n",
              "2018-10-18 04:00:00   1539835200000  LTCUSD  ...   51.88   3150.270139\n",
              "2018-10-19 04:00:00   1539921600000  LTCUSD  ...   51.88      0.000000\n",
              "2018-10-20 04:00:00   1540008000000  LTCUSD  ...   52.75      1.000000\n",
              "...                             ...     ...  ...     ...           ...\n",
              "2021-09-18 04:00:00   1631937600000  LTCUSD  ...  179.44  21093.113429\n",
              "2021-09-19 04:00:00   1632024000000  LTCUSD  ...  167.01  31279.361709\n",
              "2021-09-20 04:00:00   1632110400000  LTCUSD  ...  159.47  86803.808889\n",
              "2021-09-21 04:00:00   1632196800000  LTCUSD  ...  151.48  46606.739750\n",
              "2021-09-22 04:00:00   1632283200000  LTCUSD  ...  160.38  12445.036347\n",
              "\n",
              "[1073 rows x 7 columns]"
            ]
          },
          "metadata": {},
          "execution_count": 136
        }
      ]
    },
    {
      "cell_type": "markdown",
      "metadata": {
        "id": "TO2HMIbZJ2mh"
      },
      "source": [
        "## BTC"
      ]
    },
    {
      "cell_type": "code",
      "metadata": {
        "colab": {
          "base_uri": "https://localhost:8080/",
          "height": 455
        },
        "id": "bF4EiIx-J3Xg",
        "outputId": "de639723-fe4b-4596-c9a3-d9916878620f"
      },
      "source": [
        "btc_df"
      ],
      "execution_count": 153,
      "outputs": [
        {
          "output_type": "execute_result",
          "data": {
            "text/html": [
              "<div>\n",
              "<style scoped>\n",
              "    .dataframe tbody tr th:only-of-type {\n",
              "        vertical-align: middle;\n",
              "    }\n",
              "\n",
              "    .dataframe tbody tr th {\n",
              "        vertical-align: top;\n",
              "    }\n",
              "\n",
              "    .dataframe thead th {\n",
              "        text-align: right;\n",
              "    }\n",
              "</style>\n",
              "<table border=\"1\" class=\"dataframe\">\n",
              "  <thead>\n",
              "    <tr style=\"text-align: right;\">\n",
              "      <th></th>\n",
              "      <th>Unix Timestamp</th>\n",
              "      <th>Symbol</th>\n",
              "      <th>Open</th>\n",
              "      <th>High</th>\n",
              "      <th>Low</th>\n",
              "      <th>Close</th>\n",
              "      <th>Volume</th>\n",
              "    </tr>\n",
              "    <tr>\n",
              "      <th>Date</th>\n",
              "      <th></th>\n",
              "      <th></th>\n",
              "      <th></th>\n",
              "      <th></th>\n",
              "      <th></th>\n",
              "      <th></th>\n",
              "      <th></th>\n",
              "    </tr>\n",
              "  </thead>\n",
              "  <tbody>\n",
              "    <tr>\n",
              "      <th>2018-10-16 04:00:00</th>\n",
              "      <td>1539662400000</td>\n",
              "      <td>BTCUSD</td>\n",
              "      <td>6423.27</td>\n",
              "      <td>6489.99</td>\n",
              "      <td>6390.10</td>\n",
              "      <td>6444.08</td>\n",
              "      <td>2978.589591</td>\n",
              "    </tr>\n",
              "    <tr>\n",
              "      <th>2018-10-17 04:00:00</th>\n",
              "      <td>1539748800000</td>\n",
              "      <td>BTCUSD</td>\n",
              "      <td>6444.08</td>\n",
              "      <td>6487.77</td>\n",
              "      <td>6406.98</td>\n",
              "      <td>6459.26</td>\n",
              "      <td>1998.462064</td>\n",
              "    </tr>\n",
              "    <tr>\n",
              "      <th>2018-10-18 04:00:00</th>\n",
              "      <td>1539835200000</td>\n",
              "      <td>BTCUSD</td>\n",
              "      <td>6459.26</td>\n",
              "      <td>6459.64</td>\n",
              "      <td>6350.92</td>\n",
              "      <td>6383.39</td>\n",
              "      <td>4597.200330</td>\n",
              "    </tr>\n",
              "    <tr>\n",
              "      <th>2018-10-19 04:00:00</th>\n",
              "      <td>1539921600000</td>\n",
              "      <td>BTCUSD</td>\n",
              "      <td>6383.39</td>\n",
              "      <td>6383.39</td>\n",
              "      <td>6383.39</td>\n",
              "      <td>6383.39</td>\n",
              "      <td>0.000000</td>\n",
              "    </tr>\n",
              "    <tr>\n",
              "      <th>2018-10-20 04:00:00</th>\n",
              "      <td>1540008000000</td>\n",
              "      <td>BTCUSD</td>\n",
              "      <td>6383.39</td>\n",
              "      <td>6386.34</td>\n",
              "      <td>6382.00</td>\n",
              "      <td>6382.04</td>\n",
              "      <td>2.701644</td>\n",
              "    </tr>\n",
              "    <tr>\n",
              "      <th>...</th>\n",
              "      <td>...</td>\n",
              "      <td>...</td>\n",
              "      <td>...</td>\n",
              "      <td>...</td>\n",
              "      <td>...</td>\n",
              "      <td>...</td>\n",
              "      <td>...</td>\n",
              "    </tr>\n",
              "    <tr>\n",
              "      <th>2021-09-18 04:00:00</th>\n",
              "      <td>1631937600000</td>\n",
              "      <td>BTCUSD</td>\n",
              "      <td>47962.79</td>\n",
              "      <td>48808.97</td>\n",
              "      <td>47613.93</td>\n",
              "      <td>47854.23</td>\n",
              "      <td>671.356150</td>\n",
              "    </tr>\n",
              "    <tr>\n",
              "      <th>2021-09-19 04:00:00</th>\n",
              "      <td>1632024000000</td>\n",
              "      <td>BTCUSD</td>\n",
              "      <td>47854.23</td>\n",
              "      <td>48333.32</td>\n",
              "      <td>45175.20</td>\n",
              "      <td>45553.62</td>\n",
              "      <td>860.712331</td>\n",
              "    </tr>\n",
              "    <tr>\n",
              "      <th>2021-09-20 04:00:00</th>\n",
              "      <td>1632110400000</td>\n",
              "      <td>BTCUSD</td>\n",
              "      <td>45553.62</td>\n",
              "      <td>45837.90</td>\n",
              "      <td>40137.98</td>\n",
              "      <td>42688.03</td>\n",
              "      <td>4373.379477</td>\n",
              "    </tr>\n",
              "    <tr>\n",
              "      <th>2021-09-21 04:00:00</th>\n",
              "      <td>1632196800000</td>\n",
              "      <td>BTCUSD</td>\n",
              "      <td>42688.03</td>\n",
              "      <td>43655.53</td>\n",
              "      <td>39590.00</td>\n",
              "      <td>42089.88</td>\n",
              "      <td>2962.611037</td>\n",
              "    </tr>\n",
              "    <tr>\n",
              "      <th>2021-09-22 04:00:00</th>\n",
              "      <td>1632283200000</td>\n",
              "      <td>BTCUSD</td>\n",
              "      <td>42089.88</td>\n",
              "      <td>44047.48</td>\n",
              "      <td>41836.59</td>\n",
              "      <td>43559.58</td>\n",
              "      <td>1051.581492</td>\n",
              "    </tr>\n",
              "  </tbody>\n",
              "</table>\n",
              "<p>1073 rows × 7 columns</p>\n",
              "</div>"
            ],
            "text/plain": [
              "                     Unix Timestamp  Symbol  ...     Close       Volume\n",
              "Date                                         ...                       \n",
              "2018-10-16 04:00:00   1539662400000  BTCUSD  ...   6444.08  2978.589591\n",
              "2018-10-17 04:00:00   1539748800000  BTCUSD  ...   6459.26  1998.462064\n",
              "2018-10-18 04:00:00   1539835200000  BTCUSD  ...   6383.39  4597.200330\n",
              "2018-10-19 04:00:00   1539921600000  BTCUSD  ...   6383.39     0.000000\n",
              "2018-10-20 04:00:00   1540008000000  BTCUSD  ...   6382.04     2.701644\n",
              "...                             ...     ...  ...       ...          ...\n",
              "2021-09-18 04:00:00   1631937600000  BTCUSD  ...  47854.23   671.356150\n",
              "2021-09-19 04:00:00   1632024000000  BTCUSD  ...  45553.62   860.712331\n",
              "2021-09-20 04:00:00   1632110400000  BTCUSD  ...  42688.03  4373.379477\n",
              "2021-09-21 04:00:00   1632196800000  BTCUSD  ...  42089.88  2962.611037\n",
              "2021-09-22 04:00:00   1632283200000  BTCUSD  ...  43559.58  1051.581492\n",
              "\n",
              "[1073 rows x 7 columns]"
            ]
          },
          "metadata": {},
          "execution_count": 153
        }
      ]
    },
    {
      "cell_type": "code",
      "metadata": {
        "colab": {
          "base_uri": "https://localhost:8080/",
          "height": 1000
        },
        "id": "3EqhUz_dJ_Eo",
        "outputId": "cb5f54d2-e3d1-423b-e8de-17f21200cf8d"
      },
      "source": [
        "series = train_arima(btc_df)"
      ],
      "execution_count": 154,
      "outputs": [
        {
          "output_type": "stream",
          "name": "stdout",
          "text": [
            "                             ARIMA Model Results                              \n",
            "==============================================================================\n",
            "Dep. Variable:                D.Close   No. Observations:                 1072\n",
            "Model:                 ARIMA(2, 1, 0)   Log Likelihood               -8957.439\n",
            "Method:                       css-mle   S.D. of innovations           1029.551\n",
            "Date:                Wed, 29 Sep 2021   AIC                          17922.877\n",
            "Time:                        15:24:28   BIC                          17942.786\n",
            "Sample:                    10-31-2018   HQIC                         17930.418\n",
            "                         - 09-30-2021                                         \n",
            "=================================================================================\n",
            "                    coef    std err          z      P>|z|      [0.025      0.975]\n",
            "---------------------------------------------------------------------------------\n",
            "const            34.6227     29.445      1.176      0.240     -23.089      92.334\n",
            "ar.L1.D.Close    -0.0788      0.031     -2.579      0.010      -0.139      -0.019\n",
            "ar.L2.D.Close     0.0108      0.031      0.354      0.724      -0.049       0.071\n",
            "                                    Roots                                    \n",
            "=============================================================================\n",
            "                  Real          Imaginary           Modulus         Frequency\n",
            "-----------------------------------------------------------------------------\n",
            "AR.1           -6.6420           +0.0000j            6.6420            0.5000\n",
            "AR.2           13.9318           +0.0000j           13.9318            0.0000\n",
            "-----------------------------------------------------------------------------\n"
          ]
        },
        {
          "output_type": "display_data",
          "data": {
            "image/png": "[encoded data removed]",
            "text/plain": [
              "<Figure size 432x288 with 1 Axes>"
            ]
          },
          "metadata": {
            "needs_background": "light"
          }
        },
        {
          "output_type": "display_data",
          "data": {
            "image/png": "[encoded data removed]",
            "text/plain": [
              "<Figure size 432x288 with 1 Axes>"
            ]
          },
          "metadata": {
            "needs_background": "light"
          }
        },
        {
          "output_type": "stream",
          "name": "stdout",
          "text": [
            "                 0\n",
            "count  1072.000000\n",
            "mean     -0.097389\n",
            "std    1030.031445\n",
            "min   -7111.521593\n",
            "25%    -200.732040\n",
            "50%     -20.780492\n",
            "75%     206.470951\n",
            "max    8452.496195\n"
          ]
        }
      ]
    },
    {
      "cell_type": "code",
      "metadata": {
        "colab": {
          "base_uri": "https://localhost:8080/",
          "height": 282
        },
        "id": "N10UJlrnJ_Ep",
        "outputId": "0cb985be-66e4-49f1-e748-2f21ebb8db69"
      },
      "source": [
        "predict_arima(series)"
      ],
      "execution_count": 155,
      "outputs": [
        {
          "output_type": "stream",
          "name": "stdout",
          "text": [
            "Test RMSE: 1744.344\n"
          ]
        },
        {
          "output_type": "display_data",
          "data": {
            "image/png": "[encoded data removed]",
            "text/plain": [
              "<Figure size 432x288 with 1 Axes>"
            ]
          },
          "metadata": {
            "needs_background": "light"
          }
        }
      ]
    },
    {
      "cell_type": "code",
      "metadata": {
        "colab": {
          "base_uri": "https://localhost:8080/",
          "height": 300
        },
        "id": "E4gTZLzBJ_Ep",
        "outputId": "ad8e6fb5-7a5c-461b-a94c-df9782472316"
      },
      "source": [
        "pred =forecast_arima(btc_df,months=7) #monthly forecast\n",
        "pred"
      ],
      "execution_count": 156,
      "outputs": [
        {
          "output_type": "execute_result",
          "data": {
            "text/html": [
              "<div>\n",
              "<style scoped>\n",
              "    .dataframe tbody tr th:only-of-type {\n",
              "        vertical-align: middle;\n",
              "    }\n",
              "\n",
              "    .dataframe tbody tr th {\n",
              "        vertical-align: top;\n",
              "    }\n",
              "\n",
              "    .dataframe thead th {\n",
              "        text-align: right;\n",
              "    }\n",
              "</style>\n",
              "<table border=\"1\" class=\"dataframe\">\n",
              "  <thead>\n",
              "    <tr style=\"text-align: right;\">\n",
              "      <th></th>\n",
              "      <th>Close</th>\n",
              "    </tr>\n",
              "    <tr>\n",
              "      <th>date</th>\n",
              "      <th></th>\n",
              "    </tr>\n",
              "  </thead>\n",
              "  <tbody>\n",
              "    <tr>\n",
              "      <th>2021-09-22 04:00:00</th>\n",
              "      <td>43474.310180</td>\n",
              "    </tr>\n",
              "    <tr>\n",
              "      <th>2021-10-22 04:00:00</th>\n",
              "      <td>5805.538476</td>\n",
              "    </tr>\n",
              "    <tr>\n",
              "      <th>2021-11-21 04:00:00</th>\n",
              "      <td>-1457.037732</td>\n",
              "    </tr>\n",
              "    <tr>\n",
              "      <th>2021-12-21 04:00:00</th>\n",
              "      <td>39.883806</td>\n",
              "    </tr>\n",
              "    <tr>\n",
              "      <th>2022-01-20 04:00:00</th>\n",
              "      <td>40.046457</td>\n",
              "    </tr>\n",
              "    <tr>\n",
              "      <th>2022-02-19 04:00:00</th>\n",
              "      <td>40.591768</td>\n",
              "    </tr>\n",
              "    <tr>\n",
              "      <th>2022-03-21 04:00:00</th>\n",
              "      <td>39.472442</td>\n",
              "    </tr>\n",
              "  </tbody>\n",
              "</table>\n",
              "</div>"
            ],
            "text/plain": [
              "                            Close\n",
              "date                             \n",
              "2021-09-22 04:00:00  43474.310180\n",
              "2021-10-22 04:00:00   5805.538476\n",
              "2021-11-21 04:00:00  -1457.037732\n",
              "2021-12-21 04:00:00     39.883806\n",
              "2022-01-20 04:00:00     40.046457\n",
              "2022-02-19 04:00:00     40.591768\n",
              "2022-03-21 04:00:00     39.472442"
            ]
          },
          "metadata": {},
          "execution_count": 156
        }
      ]
    },
    {
      "cell_type": "code",
      "metadata": {
        "colab": {
          "base_uri": "https://localhost:8080/",
          "height": 294
        },
        "id": "l6joTP78J_Ep",
        "outputId": "afc4a9a3-fd2f-4731-d773-d098de36b1ef"
      },
      "source": [
        "pred.plot()"
      ],
      "execution_count": 157,
      "outputs": [
        {
          "output_type": "execute_result",
          "data": {
            "text/plain": [
              "<matplotlib.axes._subplots.AxesSubplot at 0x7f4c4a42d550>"
            ]
          },
          "metadata": {},
          "execution_count": 157
        },
        {
          "output_type": "display_data",
          "data": {
            "image/png": "[encoded data removed]",
            "text/plain": [
              "<Figure size 432x288 with 1 Axes>"
            ]
          },
          "metadata": {
            "needs_background": "light"
          }
        }
      ]
    },
    {
      "cell_type": "code",
      "metadata": {
        "colab": {
          "base_uri": "https://localhost:8080/",
          "height": 455
        },
        "id": "fPOP_SBlJ_Ep",
        "outputId": "2d46d517-6a4e-4dd5-e28a-52719495d234"
      },
      "source": [
        "btc_df"
      ],
      "execution_count": 158,
      "outputs": [
        {
          "output_type": "execute_result",
          "data": {
            "text/html": [
              "<div>\n",
              "<style scoped>\n",
              "    .dataframe tbody tr th:only-of-type {\n",
              "        vertical-align: middle;\n",
              "    }\n",
              "\n",
              "    .dataframe tbody tr th {\n",
              "        vertical-align: top;\n",
              "    }\n",
              "\n",
              "    .dataframe thead th {\n",
              "        text-align: right;\n",
              "    }\n",
              "</style>\n",
              "<table border=\"1\" class=\"dataframe\">\n",
              "  <thead>\n",
              "    <tr style=\"text-align: right;\">\n",
              "      <th></th>\n",
              "      <th>Unix Timestamp</th>\n",
              "      <th>Symbol</th>\n",
              "      <th>Open</th>\n",
              "      <th>High</th>\n",
              "      <th>Low</th>\n",
              "      <th>Close</th>\n",
              "      <th>Volume</th>\n",
              "    </tr>\n",
              "    <tr>\n",
              "      <th>Date</th>\n",
              "      <th></th>\n",
              "      <th></th>\n",
              "      <th></th>\n",
              "      <th></th>\n",
              "      <th></th>\n",
              "      <th></th>\n",
              "      <th></th>\n",
              "    </tr>\n",
              "  </thead>\n",
              "  <tbody>\n",
              "    <tr>\n",
              "      <th>2018-10-16 04:00:00</th>\n",
              "      <td>1539662400000</td>\n",
              "      <td>BTCUSD</td>\n",
              "      <td>6423.27</td>\n",
              "      <td>6489.99</td>\n",
              "      <td>6390.10</td>\n",
              "      <td>6444.08</td>\n",
              "      <td>2978.589591</td>\n",
              "    </tr>\n",
              "    <tr>\n",
              "      <th>2018-10-17 04:00:00</th>\n",
              "      <td>1539748800000</td>\n",
              "      <td>BTCUSD</td>\n",
              "      <td>6444.08</td>\n",
              "      <td>6487.77</td>\n",
              "      <td>6406.98</td>\n",
              "      <td>6459.26</td>\n",
              "      <td>1998.462064</td>\n",
              "    </tr>\n",
              "    <tr>\n",
              "      <th>2018-10-18 04:00:00</th>\n",
              "      <td>1539835200000</td>\n",
              "      <td>BTCUSD</td>\n",
              "      <td>6459.26</td>\n",
              "      <td>6459.64</td>\n",
              "      <td>6350.92</td>\n",
              "      <td>6383.39</td>\n",
              "      <td>4597.200330</td>\n",
              "    </tr>\n",
              "    <tr>\n",
              "      <th>2018-10-19 04:00:00</th>\n",
              "      <td>1539921600000</td>\n",
              "      <td>BTCUSD</td>\n",
              "      <td>6383.39</td>\n",
              "      <td>6383.39</td>\n",
              "      <td>6383.39</td>\n",
              "      <td>6383.39</td>\n",
              "      <td>0.000000</td>\n",
              "    </tr>\n",
              "    <tr>\n",
              "      <th>2018-10-20 04:00:00</th>\n",
              "      <td>1540008000000</td>\n",
              "      <td>BTCUSD</td>\n",
              "      <td>6383.39</td>\n",
              "      <td>6386.34</td>\n",
              "      <td>6382.00</td>\n",
              "      <td>6382.04</td>\n",
              "      <td>2.701644</td>\n",
              "    </tr>\n",
              "    <tr>\n",
              "      <th>...</th>\n",
              "      <td>...</td>\n",
              "      <td>...</td>\n",
              "      <td>...</td>\n",
              "      <td>...</td>\n",
              "      <td>...</td>\n",
              "      <td>...</td>\n",
              "      <td>...</td>\n",
              "    </tr>\n",
              "    <tr>\n",
              "      <th>2021-09-18 04:00:00</th>\n",
              "      <td>1631937600000</td>\n",
              "      <td>BTCUSD</td>\n",
              "      <td>47962.79</td>\n",
              "      <td>48808.97</td>\n",
              "      <td>47613.93</td>\n",
              "      <td>47854.23</td>\n",
              "      <td>671.356150</td>\n",
              "    </tr>\n",
              "    <tr>\n",
              "      <th>2021-09-19 04:00:00</th>\n",
              "      <td>1632024000000</td>\n",
              "      <td>BTCUSD</td>\n",
              "      <td>47854.23</td>\n",
              "      <td>48333.32</td>\n",
              "      <td>45175.20</td>\n",
              "      <td>45553.62</td>\n",
              "      <td>860.712331</td>\n",
              "    </tr>\n",
              "    <tr>\n",
              "      <th>2021-09-20 04:00:00</th>\n",
              "      <td>1632110400000</td>\n",
              "      <td>BTCUSD</td>\n",
              "      <td>45553.62</td>\n",
              "      <td>45837.90</td>\n",
              "      <td>40137.98</td>\n",
              "      <td>42688.03</td>\n",
              "      <td>4373.379477</td>\n",
              "    </tr>\n",
              "    <tr>\n",
              "      <th>2021-09-21 04:00:00</th>\n",
              "      <td>1632196800000</td>\n",
              "      <td>BTCUSD</td>\n",
              "      <td>42688.03</td>\n",
              "      <td>43655.53</td>\n",
              "      <td>39590.00</td>\n",
              "      <td>42089.88</td>\n",
              "      <td>2962.611037</td>\n",
              "    </tr>\n",
              "    <tr>\n",
              "      <th>2021-09-22 04:00:00</th>\n",
              "      <td>1632283200000</td>\n",
              "      <td>BTCUSD</td>\n",
              "      <td>42089.88</td>\n",
              "      <td>44047.48</td>\n",
              "      <td>41836.59</td>\n",
              "      <td>43559.58</td>\n",
              "      <td>1051.581492</td>\n",
              "    </tr>\n",
              "  </tbody>\n",
              "</table>\n",
              "<p>1073 rows × 7 columns</p>\n",
              "</div>"
            ],
            "text/plain": [
              "                     Unix Timestamp  Symbol  ...     Close       Volume\n",
              "Date                                         ...                       \n",
              "2018-10-16 04:00:00   1539662400000  BTCUSD  ...   6444.08  2978.589591\n",
              "2018-10-17 04:00:00   1539748800000  BTCUSD  ...   6459.26  1998.462064\n",
              "2018-10-18 04:00:00   1539835200000  BTCUSD  ...   6383.39  4597.200330\n",
              "2018-10-19 04:00:00   1539921600000  BTCUSD  ...   6383.39     0.000000\n",
              "2018-10-20 04:00:00   1540008000000  BTCUSD  ...   6382.04     2.701644\n",
              "...                             ...     ...  ...       ...          ...\n",
              "2021-09-18 04:00:00   1631937600000  BTCUSD  ...  47854.23   671.356150\n",
              "2021-09-19 04:00:00   1632024000000  BTCUSD  ...  45553.62   860.712331\n",
              "2021-09-20 04:00:00   1632110400000  BTCUSD  ...  42688.03  4373.379477\n",
              "2021-09-21 04:00:00   1632196800000  BTCUSD  ...  42089.88  2962.611037\n",
              "2021-09-22 04:00:00   1632283200000  BTCUSD  ...  43559.58  1051.581492\n",
              "\n",
              "[1073 rows x 7 columns]"
            ]
          },
          "metadata": {},
          "execution_count": 158
        }
      ]
    },
    {
      "cell_type": "markdown",
      "metadata": {
        "id": "LfCIRkxmKIQ-"
      },
      "source": [
        "## ETH"
      ]
    },
    {
      "cell_type": "code",
      "metadata": {
        "colab": {
          "base_uri": "https://localhost:8080/",
          "height": 1000
        },
        "id": "5LXxVp3YKGZG",
        "outputId": "2cd3c965-e6e2-4ad8-8d56-b5235c287819"
      },
      "source": [
        "series = train_arima(eth_df)"
      ],
      "execution_count": 159,
      "outputs": [
        {
          "output_type": "stream",
          "name": "stdout",
          "text": [
            "                             ARIMA Model Results                              \n",
            "==============================================================================\n",
            "Dep. Variable:                D.Close   No. Observations:                 1072\n",
            "Model:                 ARIMA(2, 1, 0)   Log Likelihood               -6086.692\n",
            "Method:                       css-mle   S.D. of innovations             70.735\n",
            "Date:                Wed, 29 Sep 2021   AIC                          12181.385\n",
            "Time:                        15:26:14   BIC                          12201.294\n",
            "Sample:                    10-31-2018   HQIC                         12188.926\n",
            "                         - 09-30-2021                                         \n",
            "=================================================================================\n",
            "                    coef    std err          z      P>|z|      [0.025      0.975]\n",
            "---------------------------------------------------------------------------------\n",
            "const             2.6651      2.125      1.254      0.210      -1.499       6.829\n",
            "ar.L1.D.Close    -0.0651      0.031     -2.128      0.034      -0.125      -0.005\n",
            "ar.L2.D.Close     0.0483      0.031      1.577      0.115      -0.012       0.108\n",
            "                                    Roots                                    \n",
            "=============================================================================\n",
            "                  Real          Imaginary           Modulus         Frequency\n",
            "-----------------------------------------------------------------------------\n",
            "AR.1           -3.9251           +0.0000j            3.9251            0.5000\n",
            "AR.2            5.2725           +0.0000j            5.2725            0.0000\n",
            "-----------------------------------------------------------------------------\n"
          ]
        },
        {
          "output_type": "display_data",
          "data": {
            "image/png": "[encoded data removed]",
            "text/plain": [
              "<Figure size 432x288 with 1 Axes>"
            ]
          },
          "metadata": {
            "needs_background": "light"
          }
        },
        {
          "output_type": "display_data",
          "data": {
            "image/png": "[encoded data removed]",
            "text/plain": [
              "<Figure size 432x288 with 1 Axes>"
            ]
          },
          "metadata": {
            "needs_background": "light"
          }
        },
        {
          "output_type": "stream",
          "name": "stdout",
          "text": [
            "                 0\n",
            "count  1072.000000\n",
            "mean     -0.000004\n",
            "std      70.768112\n",
            "min    -643.389535\n",
            "25%      -8.032842\n",
            "50%      -2.017349\n",
            "75%       6.897299\n",
            "max     453.827690\n"
          ]
        }
      ]
    },
    {
      "cell_type": "code",
      "metadata": {
        "colab": {
          "base_uri": "https://localhost:8080/",
          "height": 284
        },
        "id": "AUtnz2dBKGZG",
        "outputId": "3e7ebb4a-ab8b-4980-eb46-9351a163cb74"
      },
      "source": [
        "predict_arima(series)"
      ],
      "execution_count": 160,
      "outputs": [
        {
          "output_type": "stream",
          "name": "stdout",
          "text": [
            "Test RMSE: 125.060\n"
          ]
        },
        {
          "output_type": "display_data",
          "data": {
            "image/png": "[encoded data removed]",
            "text/plain": [
              "<Figure size 432x288 with 1 Axes>"
            ]
          },
          "metadata": {
            "needs_background": "light"
          }
        }
      ]
    },
    {
      "cell_type": "code",
      "metadata": {
        "colab": {
          "base_uri": "https://localhost:8080/",
          "height": 300
        },
        "id": "dS2xjuwRKGZG",
        "outputId": "5a571991-84a4-40dc-9d45-2209e7514aaa"
      },
      "source": [
        "pred =forecast_arima(eth_df,months=7) #monthly forecast\n",
        "pred"
      ],
      "execution_count": 161,
      "outputs": [
        {
          "output_type": "execute_result",
          "data": {
            "text/html": [
              "<div>\n",
              "<style scoped>\n",
              "    .dataframe tbody tr th:only-of-type {\n",
              "        vertical-align: middle;\n",
              "    }\n",
              "\n",
              "    .dataframe tbody tr th {\n",
              "        vertical-align: top;\n",
              "    }\n",
              "\n",
              "    .dataframe thead th {\n",
              "        text-align: right;\n",
              "    }\n",
              "</style>\n",
              "<table border=\"1\" class=\"dataframe\">\n",
              "  <thead>\n",
              "    <tr style=\"text-align: right;\">\n",
              "      <th></th>\n",
              "      <th>Close</th>\n",
              "    </tr>\n",
              "    <tr>\n",
              "      <th>date</th>\n",
              "      <th></th>\n",
              "    </tr>\n",
              "  </thead>\n",
              "  <tbody>\n",
              "    <tr>\n",
              "      <th>2021-09-22 04:00:00</th>\n",
              "      <td>3055.691797</td>\n",
              "    </tr>\n",
              "    <tr>\n",
              "      <th>2021-10-22 04:00:00</th>\n",
              "      <td>587.553161</td>\n",
              "    </tr>\n",
              "    <tr>\n",
              "      <th>2021-11-21 04:00:00</th>\n",
              "      <td>-302.786550</td>\n",
              "    </tr>\n",
              "    <tr>\n",
              "      <th>2021-12-21 04:00:00</th>\n",
              "      <td>45.919420</td>\n",
              "    </tr>\n",
              "    <tr>\n",
              "      <th>2022-01-20 04:00:00</th>\n",
              "      <td>46.100863</td>\n",
              "    </tr>\n",
              "    <tr>\n",
              "      <th>2022-02-19 04:00:00</th>\n",
              "      <td>46.595386</td>\n",
              "    </tr>\n",
              "    <tr>\n",
              "      <th>2022-03-21 04:00:00</th>\n",
              "      <td>45.510576</td>\n",
              "    </tr>\n",
              "  </tbody>\n",
              "</table>\n",
              "</div>"
            ],
            "text/plain": [
              "                           Close\n",
              "date                            \n",
              "2021-09-22 04:00:00  3055.691797\n",
              "2021-10-22 04:00:00   587.553161\n",
              "2021-11-21 04:00:00  -302.786550\n",
              "2021-12-21 04:00:00    45.919420\n",
              "2022-01-20 04:00:00    46.100863\n",
              "2022-02-19 04:00:00    46.595386\n",
              "2022-03-21 04:00:00    45.510576"
            ]
          },
          "metadata": {},
          "execution_count": 161
        }
      ]
    },
    {
      "cell_type": "code",
      "metadata": {
        "colab": {
          "base_uri": "https://localhost:8080/",
          "height": 294
        },
        "id": "r826rjpYKGZG",
        "outputId": "96178f8d-dcba-4148-e7fb-55110c9bcc4c"
      },
      "source": [
        "pred.plot()"
      ],
      "execution_count": 162,
      "outputs": [
        {
          "output_type": "execute_result",
          "data": {
            "text/plain": [
              "<matplotlib.axes._subplots.AxesSubplot at 0x7f4c5677c350>"
            ]
          },
          "metadata": {},
          "execution_count": 162
        },
        {
          "output_type": "display_data",
          "data": {
            "image/png": "[encoded data removed]",
            "text/plain": [
              "<Figure size 432x288 with 1 Axes>"
            ]
          },
          "metadata": {
            "needs_background": "light"
          }
        }
      ]
    },
    {
      "cell_type": "code",
      "metadata": {
        "colab": {
          "base_uri": "https://localhost:8080/",
          "height": 455
        },
        "id": "9uI5w1_mKGZH",
        "outputId": "f224a88a-11f3-4a37-a11f-26b3ab150c3d"
      },
      "source": [
        "eth_df"
      ],
      "execution_count": 163,
      "outputs": [
        {
          "output_type": "execute_result",
          "data": {
            "text/html": [
              "<div>\n",
              "<style scoped>\n",
              "    .dataframe tbody tr th:only-of-type {\n",
              "        vertical-align: middle;\n",
              "    }\n",
              "\n",
              "    .dataframe tbody tr th {\n",
              "        vertical-align: top;\n",
              "    }\n",
              "\n",
              "    .dataframe thead th {\n",
              "        text-align: right;\n",
              "    }\n",
              "</style>\n",
              "<table border=\"1\" class=\"dataframe\">\n",
              "  <thead>\n",
              "    <tr style=\"text-align: right;\">\n",
              "      <th></th>\n",
              "      <th>Unix Timestamp</th>\n",
              "      <th>Symbol</th>\n",
              "      <th>Open</th>\n",
              "      <th>High</th>\n",
              "      <th>Low</th>\n",
              "      <th>Close</th>\n",
              "      <th>Volume</th>\n",
              "    </tr>\n",
              "    <tr>\n",
              "      <th>Date</th>\n",
              "      <th></th>\n",
              "      <th></th>\n",
              "      <th></th>\n",
              "      <th></th>\n",
              "      <th></th>\n",
              "      <th></th>\n",
              "      <th></th>\n",
              "    </tr>\n",
              "  </thead>\n",
              "  <tbody>\n",
              "    <tr>\n",
              "      <th>2018-10-16 04:00:00</th>\n",
              "      <td>1539662400000</td>\n",
              "      <td>ETHUSD</td>\n",
              "      <td>202.67</td>\n",
              "      <td>207.89</td>\n",
              "      <td>202.50</td>\n",
              "      <td>205.86</td>\n",
              "      <td>21165.529375</td>\n",
              "    </tr>\n",
              "    <tr>\n",
              "      <th>2018-10-17 04:00:00</th>\n",
              "      <td>1539748800000</td>\n",
              "      <td>ETHUSD</td>\n",
              "      <td>205.86</td>\n",
              "      <td>206.05</td>\n",
              "      <td>201.35</td>\n",
              "      <td>204.60</td>\n",
              "      <td>11431.196005</td>\n",
              "    </tr>\n",
              "    <tr>\n",
              "      <th>2018-10-18 04:00:00</th>\n",
              "      <td>1539835200000</td>\n",
              "      <td>ETHUSD</td>\n",
              "      <td>204.60</td>\n",
              "      <td>204.78</td>\n",
              "      <td>196.97</td>\n",
              "      <td>199.43</td>\n",
              "      <td>24540.877376</td>\n",
              "    </tr>\n",
              "    <tr>\n",
              "      <th>2018-10-19 04:00:00</th>\n",
              "      <td>1539921600000</td>\n",
              "      <td>ETHUSD</td>\n",
              "      <td>199.43</td>\n",
              "      <td>199.43</td>\n",
              "      <td>199.43</td>\n",
              "      <td>199.43</td>\n",
              "      <td>0.000000</td>\n",
              "    </tr>\n",
              "    <tr>\n",
              "      <th>2018-10-20 04:00:00</th>\n",
              "      <td>1540008000000</td>\n",
              "      <td>ETHUSD</td>\n",
              "      <td>199.43</td>\n",
              "      <td>200.73</td>\n",
              "      <td>199.43</td>\n",
              "      <td>200.73</td>\n",
              "      <td>4.687530</td>\n",
              "    </tr>\n",
              "    <tr>\n",
              "      <th>...</th>\n",
              "      <td>...</td>\n",
              "      <td>...</td>\n",
              "      <td>...</td>\n",
              "      <td>...</td>\n",
              "      <td>...</td>\n",
              "      <td>...</td>\n",
              "      <td>...</td>\n",
              "    </tr>\n",
              "    <tr>\n",
              "      <th>2021-09-18 04:00:00</th>\n",
              "      <td>1631937600000</td>\n",
              "      <td>ETHUSD</td>\n",
              "      <td>3452.36</td>\n",
              "      <td>3541.89</td>\n",
              "      <td>3374.61</td>\n",
              "      <td>3413.18</td>\n",
              "      <td>7627.867957</td>\n",
              "    </tr>\n",
              "    <tr>\n",
              "      <th>2021-09-19 04:00:00</th>\n",
              "      <td>1632024000000</td>\n",
              "      <td>ETHUSD</td>\n",
              "      <td>3413.18</td>\n",
              "      <td>3458.96</td>\n",
              "      <td>3157.41</td>\n",
              "      <td>3187.56</td>\n",
              "      <td>15668.045794</td>\n",
              "    </tr>\n",
              "    <tr>\n",
              "      <th>2021-09-20 04:00:00</th>\n",
              "      <td>1632110400000</td>\n",
              "      <td>ETHUSD</td>\n",
              "      <td>3187.56</td>\n",
              "      <td>3218.18</td>\n",
              "      <td>2807.97</td>\n",
              "      <td>2998.29</td>\n",
              "      <td>49242.010484</td>\n",
              "    </tr>\n",
              "    <tr>\n",
              "      <th>2021-09-21 04:00:00</th>\n",
              "      <td>1632196800000</td>\n",
              "      <td>ETHUSD</td>\n",
              "      <td>2998.29</td>\n",
              "      <td>3104.42</td>\n",
              "      <td>2650.85</td>\n",
              "      <td>2869.31</td>\n",
              "      <td>46289.916678</td>\n",
              "    </tr>\n",
              "    <tr>\n",
              "      <th>2021-09-22 04:00:00</th>\n",
              "      <td>1632283200000</td>\n",
              "      <td>ETHUSD</td>\n",
              "      <td>2869.31</td>\n",
              "      <td>3097.00</td>\n",
              "      <td>2869.31</td>\n",
              "      <td>3072.44</td>\n",
              "      <td>11106.197241</td>\n",
              "    </tr>\n",
              "  </tbody>\n",
              "</table>\n",
              "<p>1073 rows × 7 columns</p>\n",
              "</div>"
            ],
            "text/plain": [
              "                     Unix Timestamp  Symbol  ...    Close        Volume\n",
              "Date                                         ...                       \n",
              "2018-10-16 04:00:00   1539662400000  ETHUSD  ...   205.86  21165.529375\n",
              "2018-10-17 04:00:00   1539748800000  ETHUSD  ...   204.60  11431.196005\n",
              "2018-10-18 04:00:00   1539835200000  ETHUSD  ...   199.43  24540.877376\n",
              "2018-10-19 04:00:00   1539921600000  ETHUSD  ...   199.43      0.000000\n",
              "2018-10-20 04:00:00   1540008000000  ETHUSD  ...   200.73      4.687530\n",
              "...                             ...     ...  ...      ...           ...\n",
              "2021-09-18 04:00:00   1631937600000  ETHUSD  ...  3413.18   7627.867957\n",
              "2021-09-19 04:00:00   1632024000000  ETHUSD  ...  3187.56  15668.045794\n",
              "2021-09-20 04:00:00   1632110400000  ETHUSD  ...  2998.29  49242.010484\n",
              "2021-09-21 04:00:00   1632196800000  ETHUSD  ...  2869.31  46289.916678\n",
              "2021-09-22 04:00:00   1632283200000  ETHUSD  ...  3072.44  11106.197241\n",
              "\n",
              "[1073 rows x 7 columns]"
            ]
          },
          "metadata": {},
          "execution_count": 163
        }
      ]
    },
    {
      "cell_type": "code",
      "metadata": {
        "id": "Z6c4yOOYKNhp"
      },
      "source": [
        ""
      ],
      "execution_count": null,
      "outputs": []
    }
  ]
}